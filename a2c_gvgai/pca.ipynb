{
 "cells": [
  {
   "cell_type": "code",
   "execution_count": 15,
   "metadata": {},
   "outputs": [],
   "source": [
    "import os\n",
    "import numpy as np\n",
    "from os import walk\n",
    "from random import shuffle\n",
    "\n",
    "def load_level_files(path):\n",
    "    files = []\n",
    "    for (dirpath, dirnames, filenames) in walk(path):\n",
    "        files.extend(filenames)\n",
    "        break\n",
    "    for f in range(len(files)):\n",
    "        files[f] = path + files[f]\n",
    "    return files\n",
    "\n",
    "def file_len(file):\n",
    "    return sum(1 for line in file)\n",
    "\n",
    "def parse_level_file(file_content):\n",
    "    rows = file_content.split(\"\\n\")[:-1]\n",
    "    height = len(rows)\n",
    "    width = len(rows[0])\n",
    "    level = np.zeros((len(tileset), height, width))\n",
    "    y = 0\n",
    "    for row in rows:\n",
    "        x = 0\n",
    "        for tile in row:\n",
    "            if tile != '.':\n",
    "                for t in range(len(tileset)):\n",
    "                    if tileset[t] == tile:\n",
    "                        level[t][y][x] = 1\n",
    "                        break\n",
    "            x += 1\n",
    "        y += 1\n",
    "    return level\n",
    "\n",
    "def get_level_content(files):\n",
    "    levels = []\n",
    "    for f in range(len(files)):\n",
    "        filename = files[f]\n",
    "        if filename[-4:] != '.txt':\n",
    "            continue\n",
    "        #print(filename)\n",
    "        file = open(filename, 'r')\n",
    "        content = file.read()\n",
    "        levels.append(content)\n",
    "    return levels\n",
    "\n",
    "def parse_level_files(files):\n",
    "    levels = []\n",
    "    for f in range(len(files)):\n",
    "        filename = files[f]\n",
    "        if filename[-4:] != '.txt':\n",
    "            continue\n",
    "        #print(filename)\n",
    "        file = open(filename, 'r')\n",
    "        content = file.read()\n",
    "        #print(content)\n",
    "        level = parse_level_file(content)\n",
    "        #print(level)\n",
    "        levels.append(level)\n",
    "        #break\n",
    "    return levels\n",
    "\n",
    "#won_files = load_level_files(\"./levels/\" + game + \"/won/\")\n",
    "#lost_files = load_level_files(\"./levels\" + game + \"/lost/\")\n",
    "#human_won_files = load_level_files(\"./levels\" + game + \"/human_won/\")\n",
    "#human_files = load_level_files(\"./levels\" + game + \"/human/\")\n",
    "#human_lost_files = load_level_files(\"./levels\" + game + \"/human_lost/\")\n",
    "#won_levels = parse_level_files(won_files)\n",
    "#lost_levels = parse_level_files(lost_files)\n",
    "#human_levels = parse_level_files(human_files)\n",
    "#human_won_levels = parse_level_files(human_won_files)\n",
    "#human_lost_levels = parse_level_files(human_lost_files)\n",
    "#all_levels = won_levels + lost_levels + human_levels\n",
    "#all_labels = [\"Won\" for _ in won_levels] + [\"Lost\" for _ in lost_levels] + [\"Human\" for _ in human_levels]\n",
    "#all_colors = [green for _ in won_levels] + [red for _ in lost_levels] + [blue for _ in human_levels]"
   ]
  },
  {
   "cell_type": "code",
   "execution_count": 16,
   "metadata": {},
   "outputs": [
    {
     "name": "stdout",
     "output_type": "stream",
     "text": [
      "processing solarfox\n",
      "30 levels loaded\n",
      "(30, 7, 11, 10)\n",
      "PCA computed\n",
      "t-SNE computed\n",
      "File content loaded\n",
      "processing zelda\n",
      "30 levels loaded\n",
      "(30, 7, 9, 13)\n",
      "PCA computed\n",
      "t-SNE computed\n",
      "File content loaded\n",
      "processing frogs\n",
      "30 levels loaded\n",
      "(30, 13, 11, 28)\n",
      "PCA computed\n",
      "t-SNE computed\n",
      "File content loaded\n",
      "processing boulderdash\n",
      "30 levels loaded\n",
      "(30, 7, 13, 26)\n",
      "PCA computed\n",
      "t-SNE computed\n",
      "File content loaded\n"
     ]
    }
   ],
   "source": [
    "from sklearn.decomposition import RandomizedPCA\n",
    "from sklearn.decomposition import PCA\n",
    "from sklearn.manifold import TSNE\n",
    "\n",
    "games = [\"solarfox\", \"zelda\", \"frogs\", \"boulderdash\"]\n",
    "\n",
    "green = \"#55cc55\"\n",
    "red = \"#cc5555\"\n",
    "blue = \"#5555cc\"\n",
    "\n",
    "processed_pca = {}\n",
    "processed_tsne = {}\n",
    "levels = {}\n",
    "\n",
    "for game in games:\n",
    "    print(\"processing \" + game)\n",
    "    if game == \"zelda\":\n",
    "        tileset = ['w', 'A', 'g', '+', '1', '2', '3']\n",
    "    elif game == \"frogs\":\n",
    "        tileset = ['w', 'A', 'g', '+', 'x', '0', '=', '-', '4', '3', '2', '1', 'l']\n",
    "    elif game == \"solarfox\":\n",
    "        tileset = ['w', 'A', 'p', '+', 'b', '1', '2']\n",
    "    elif game == \"boulderdash\":\n",
    "        tileset = ['w', 'x', 'o', 'c', '-', 'b', 'e']\n",
    "\n",
    "    gen_files = load_level_files(\"./data/test-levels/\" + game + \"/10/\")\n",
    "    human_files = load_level_files(\"./levels/\" + game + \"/human/\")\n",
    "    gen_levels = parse_level_files(gen_files)\n",
    "    human_levels = parse_level_files(human_files)\n",
    "    all_labels = [\"PCG\" for _ in gen_levels] + [\"Human\" for _ in human_levels]\n",
    "    all_labels = [\"PCG\" for _ in gen_levels] + [\"Human\" for _ in human_levels]\n",
    "    all_colors = [red for _ in gen_levels] + [blue for _ in human_levels]\n",
    "    all_levels = gen_levels + human_levels\n",
    "    print(\"{} levels loaded\".format(len(all_levels)))\n",
    "    arr = np.array(all_levels)\n",
    "    print(arr.shape)\n",
    "    components = np.array(all_levels).reshape((arr.shape[0], arr.shape[1] * arr.shape[2] * arr.shape[3]))\n",
    "    pca = PCA(n_components=2)\n",
    "    transformed_pca = pca.fit_transform(components)\n",
    "    processed_pca[game] = transformed_pca\n",
    "    print(\"PCA computed\")\n",
    "    transformed_tsne = TSNE(n_components=2).fit_transform(components)\n",
    "    processed_tsne[game] = transformed_tsne\n",
    "    print(\"t-SNE computed\")\n",
    "    levels[game] = get_level_content(gen_files + human_files)\n",
    "    print(\"File content loaded\")"
   ]
  },
  {
   "cell_type": "code",
   "execution_count": 17,
   "metadata": {},
   "outputs": [],
   "source": [
    "import matplotlib.pyplot as plt\n",
    "from matplotlib.lines import Line2D\n",
    "from matplotlib.markers import MarkerStyle\n",
    "from sklearn.cluster import DBSCAN\n",
    "from sklearn import metrics\n",
    "\n",
    "def closest_point(point, points):\n",
    "    points = np.asarray(points)\n",
    "    dist_2 = np.sum((points - point)**2, axis=1)\n",
    "    return points[np.argmin(dist_2)]\n",
    "\n",
    "def plot(data, pca=False, eps=0.3, min_samples=10):\n",
    "    fig, plot = plt.subplots()\n",
    "    fig.set_size_inches(5, 5)\n",
    "    plt.prism()\n",
    "    \n",
    "    #plot.scatter(data[...,0][:-5], data[...,1][:-5], c=all_colors[:-5])\n",
    "    #s = [100 for n in range(5)]\n",
    "    #plot.scatter(data[...,0][-5:], data[...,1][-5:], c=all_colors[-5:], marker='s', s=s)\n",
    "\n",
    "    # Clustering\n",
    "    db = DBSCAN(eps=eps, min_samples=min_samples).fit(data)\n",
    "    \n",
    "    core_samples_mask = np.zeros_like(db.labels_, dtype=bool)\n",
    "    core_samples_mask[db.core_sample_indices_] = True\n",
    "    labels = db.labels_\n",
    "\n",
    "    # Number of clusters in labels, ignoring noise if present.\n",
    "    n_clusters_ = len(set(labels)) - (1 if -1 in labels else 0)\n",
    "    print('Estimated number of clusters: %d' % n_clusters_)\n",
    "    \n",
    "    # Black removed and is used for noise instead.\n",
    "    unique_labels = set(labels)\n",
    "    colors = [plt.cm.Spectral(each)\n",
    "              for each in np.linspace(0, 1, len(unique_labels))]\n",
    "    for k, col in zip(unique_labels, colors):\n",
    "        if k == -1:\n",
    "            # Black used for noise.\n",
    "            col = [0, 0, 0, 1]\n",
    "\n",
    "        class_member_mask = (labels == k)\n",
    "\n",
    "        xy = data[class_member_mask & core_samples_mask]\n",
    "        plt.plot(xy[:, 0], xy[:, 1], 'o', markerfacecolor=tuple(col),\n",
    "                 markeredgecolor='k', markersize=6)\n",
    "        \n",
    "        # Find centroids\n",
    "        if len(xy) > 0:\n",
    "            center = (sum(xy[:, 0]) / len(xy), sum(xy[:, 1]) / len(xy))\n",
    "            centroid = closest_point(center, xy)\n",
    "            centroid_idx = -1\n",
    "            assert centroid in data\n",
    "            for i in range(len(data)):\n",
    "                if np.array_equal(data[i], centroid):\n",
    "                    centroid_idx = i\n",
    "                    break\n",
    "            assert centroid_idx >= 0\n",
    "            \n",
    "            print(\"Centroid of cluster {} with color {}\".format(k, col))\n",
    "            print(levels[game][centroid_idx])\n",
    "            \n",
    "            plt.plot(centroid[0], centroid[1], 'o', markerfacecolor=tuple(col),\n",
    "                 markeredgecolor='k', markersize=12)\n",
    "            \n",
    "        xy = data[class_member_mask & ~core_samples_mask]\n",
    "        plt.plot(xy[:, 0], xy[:, 1], 'o', markerfacecolor=tuple(col),\n",
    "                 markeredgecolor='k', markersize=6)\n",
    "        \n",
    "        '''\n",
    "        xy = data[class_member_mask & ~core_samples_mask]\n",
    "        plt.plot(xy[:, 0], xy[:, 1], 'o', markerfacecolor=tuple(col),\n",
    "                 markeredgecolor='k', markersize=6)\n",
    "        '''\n",
    "        \n",
    "    plot.set_xticks(())\n",
    "    plot.set_yticks(())\n",
    "    custom_lines = [Line2D([0], [0], marker='o', color='w', label='Scatter',\n",
    "                          markerfacecolor=red, markersize=8), \n",
    "                    Line2D([0], [0], marker='o', color='w', label='Scatter',\n",
    "                          markerfacecolor='white', markeredgecolor='black', markersize=8)]\n",
    "\n",
    "    #for i in range(len(human_levels)):\n",
    "    #    plot.annotate(\"Level {}\".format(i), (data[len(gen_levels)+i][0], data[len(gen_levels)+i][1]))\n",
    "    for i in range(len(human_levels)):\n",
    "        bbox_props = dict(boxstyle=\"circle,pad=0.1\", fc=\"white\", ec=\"black\", lw=2)\n",
    "        t = plot.text(data[len(gen_levels)+i][0], data[len(gen_levels)+i][1], i, ha=\"center\", va=\"center\", rotation=0,\n",
    "                    size=15,\n",
    "                    bbox=bbox_props)\n",
    "\n",
    "    #lines = ax.plot(data)\n",
    "    title = \"{} on {} levels\".format(\"PCA\" if pca else \"t-SNE\", game.title())\n",
    "    plt.title(title)\n",
    "    #plot.legend(custom_lines, ['PCG', 'Human'], loc=1)\n",
    "    #plot.legend(['Won', 'Lost', 'Human'], loc=2)\n",
    "    fig.savefig(\"levels/images/\" + game + (\"_pca\" if pca else \"_t-sne\") + \".pdf\", bbox_inches='tight')\n",
    "    return fig"
   ]
  },
  {
   "cell_type": "code",
   "execution_count": 18,
   "metadata": {
    "scrolled": true
   },
   "outputs": [
    {
     "name": "stdout",
     "output_type": "stream",
     "text": [
      "Plotting for solarfox\n",
      "Estimated number of clusters: 0\n",
      "Estimated number of clusters: 0\n",
      "Plotting for zelda\n",
      "Estimated number of clusters: 0\n",
      "Estimated number of clusters: 0\n",
      "Plotting for frogs\n",
      "Estimated number of clusters: 0\n",
      "Estimated number of clusters: 0\n",
      "Plotting for boulderdash\n",
      "Estimated number of clusters: 0\n",
      "Estimated number of clusters: 0\n"
     ]
    },
    {
     "data": {
      "image/png": "[encoded data removed]",
      "text/plain": [
       "<Figure size 360x360 with 1 Axes>"
      ]
     },
     "metadata": {},
     "output_type": "display_data"
    },
    {
     "data": {
      "image/png": "[encoded data removed]",
      "text/plain": [
       "<Figure size 360x360 with 1 Axes>"
      ]
     },
     "metadata": {},
     "output_type": "display_data"
    },
    {
     "data": {
      "image/png": "[encoded data removed]",
      "text/plain": [
       "<Figure size 360x360 with 1 Axes>"
      ]
     },
     "metadata": {},
     "output_type": "display_data"
    },
    {
     "data": {
      "image/png": "[encoded data removed]",
      "text/plain": [
       "<Figure size 360x360 with 1 Axes>"
      ]
     },
     "metadata": {},
     "output_type": "display_data"
    },
    {
     "data": {
      "image/png": "[encoded data removed]",
      "text/plain": [
       "<Figure size 360x360 with 1 Axes>"
      ]
     },
     "metadata": {},
     "output_type": "display_data"
    },
    {
     "data": {
      "image/png": "[encoded data removed]",
      "text/plain": [
       "<Figure size 360x360 with 1 Axes>"
      ]
     },
     "metadata": {},
     "output_type": "display_data"
    },
    {
     "data": {
      "image/png": "[encoded data removed]",
      "text/plain": [
       "<Figure size 360x360 with 1 Axes>"
      ]
     },
     "metadata": {},
     "output_type": "display_data"
    },
    {
     "data": {
      "image/png": "[encoded data removed]",
      "text/plain": [
       "<Figure size 360x360 with 1 Axes>"
      ]
     },
     "metadata": {},
     "output_type": "display_data"
    }
   ],
   "source": [
    "for game in games:\n",
    "    print(\"Plotting for \" + game)\n",
    "    plot(processed_pca[game], pca=True, eps=0.5, min_samples=10)\n",
    "    plot(processed_tsne[game], pca=False, eps=5, min_samples=25)"
   ]
  },
  {
   "cell_type": "code",
   "execution_count": null,
   "metadata": {},
   "outputs": [],
   "source": []
  },
  {
   "cell_type": "code",
   "execution_count": null,
   "metadata": {},
   "outputs": [],
   "source": []
  },
  {
   "cell_type": "code",
   "execution_count": null,
   "metadata": {},
   "outputs": [],
   "source": []
  },
  {
   "cell_type": "code",
   "execution_count": null,
   "metadata": {},
   "outputs": [],
   "source": []
  }
 ],
 "metadata": {
  "kernelspec": {
   "display_name": "Python 3",
   "language": "python",
   "name": "python3"
  },
  "language_info": {
   "codemirror_mode": {
    "name": "ipython",
    "version": 3
   },
   "file_extension": ".py",
   "mimetype": "text/x-python",
   "name": "python",
   "nbconvert_exporter": "python",
   "pygments_lexer": "ipython3",
   "version": "3.6.7"
  }
 },
 "nbformat": 4,
 "nbformat_minor": 2
}
